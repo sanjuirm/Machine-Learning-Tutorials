{
 "cells": [
  {
   "cell_type": "code",
   "execution_count": 1,
   "metadata": {},
   "outputs": [],
   "source": [
    "import numpy as np\n",
    "from sklearn.model_selection import KFold"
   ]
  },
  {
   "cell_type": "code",
   "execution_count": 12,
   "metadata": {},
   "outputs": [],
   "source": [
    "# genrating random values(independent features)\n",
    "X= np.random.random(size= (25,5))\n",
    "\n",
    "# genrating random interger values (dependent features)\n",
    "Y=np.random.randint(low=0, high=2, size= 25)"
   ]
  },
  {
   "cell_type": "code",
   "execution_count": 13,
   "metadata": {},
   "outputs": [
    {
     "data": {
      "text/plain": [
       "array([0, 0, 1, 1, 1, 0, 1, 0, 1, 0, 1, 1, 1, 1, 0, 0, 0, 1, 1, 1, 1, 0,\n",
       "       0, 0, 1])"
      ]
     },
     "execution_count": 13,
     "metadata": {},
     "output_type": "execute_result"
    }
   ],
   "source": [
    "Y"
   ]
  },
  {
   "cell_type": "code",
   "execution_count": 47,
   "metadata": {},
   "outputs": [
    {
     "name": "stdout",
     "output_type": "stream",
     "text": [
      "[ 0  1  2  3  4  5  6  7  9 10 11 12 13 14 15 17 19 21 23 24] [ 8 16 18 20 22]\n",
      "[ 1  2  3  5  6  7  8  9 10 12 13 15 16 17 18 19 20 21 22 23 24] [ 0  4 11 14]\n",
      "[ 0  1  3  4  5  6  7  8  9 10 11 13 14 16 17 18 20 21 22 23 24] [ 2 12 15 19]\n",
      "[ 0  1  2  4  5  6  7  8 11 12 13 14 15 16 18 19 20 21 22 23 24] [ 3  9 10 17]\n",
      "[ 0  2  3  4  6  8  9 10 11 12 13 14 15 16 17 18 19 20 21 22 24] [ 1  5  7 23]\n",
      "[ 0  1  2  3  4  5  7  8  9 10 11 12 14 15 16 17 18 19 20 22 23] [ 6 13 21 24]\n"
     ]
    }
   ],
   "source": [
    "#Creating a class\n",
    "kf = KFold( n_splits= 6, shuffle= True)\n",
    "\n",
    "# Generate indices to split data into training and test set.\n",
    "for train_index, test_index in kf.split(X):  \n",
    "    print(train_index, test_index) # training and testing set indices for that split."
   ]
  },
  {
   "cell_type": "markdown",
   "metadata": {},
   "source": [
    "***what to do in case of unequal proportions of test data***"
   ]
  },
  {
   "cell_type": "markdown",
   "metadata": {},
   "source": [
    "> That time we do `Stratified Sampling`\n",
    "\n",
    "> Here we make sure that class or features of our training and testing dataset contains data in equal proportions as it is in the original dataset. \n",
    "\n",
    "> For example if our data contains two type of class in 3:2 ratio, then our test, train dataset should also contain those two types of class in 3:2 ratio.  "
   ]
  },
  {
   "cell_type": "markdown",
   "metadata": {},
   "source": [
    "***`cross_val_score()`***"
   ]
  },
  {
   "cell_type": "code",
   "execution_count": 56,
   "metadata": {},
   "outputs": [],
   "source": [
    "from sklearn.model_selection import cross_val_score\n",
    "from sklearn.neighbors import KNeighborsClassifier"
   ]
  },
  {
   "cell_type": "code",
   "execution_count": 54,
   "metadata": {},
   "outputs": [],
   "source": [
    "from sklearn import datasets\n",
    "data = datasets.load_iris()\n",
    "\n",
    "x = data['data']   \n",
    "y = data['target'] # output features"
   ]
  },
  {
   "cell_type": "code",
   "execution_count": 57,
   "metadata": {},
   "outputs": [
    {
     "data": {
      "text/plain": [
       "array([1.        , 0.93333333, 1.        , 1.        , 0.86666667,\n",
       "       0.93333333, 0.93333333, 1.        , 1.        , 1.        ])"
      ]
     },
     "execution_count": 57,
     "metadata": {},
     "output_type": "execute_result"
    }
   ],
   "source": [
    "# model building\n",
    "knn  = KNeighborsClassifier(n_neighbors= 5)\n",
    "scores = cross_val_score (knn, x,y,\n",
    "                          cv= 10, # no of folds (whole data in 10 parts and train each part on the knn model and check accuracy)\n",
    "                          scoring= 'accuracy')\n",
    "scores"
   ]
  },
  {
   "cell_type": "code",
   "execution_count": 58,
   "metadata": {},
   "outputs": [
    {
     "data": {
      "text/plain": [
       "0.9666666666666668"
      ]
     },
     "execution_count": 58,
     "metadata": {},
     "output_type": "execute_result"
    }
   ],
   "source": [
    "# now taking the mean of those accuracy\n",
    "scores.mean()"
   ]
  },
  {
   "cell_type": "markdown",
   "metadata": {},
   "source": [
    "***What is the optimum value of th parameter `n_neighbors` of KNN model for which the accuracy mean is maximum***"
   ]
  },
  {
   "cell_type": "code",
   "execution_count": 62,
   "metadata": {},
   "outputs": [
    {
     "name": "stdout",
     "output_type": "stream",
     "text": [
      "1 0.96\n",
      "2 0.9533333333333334\n",
      "3 0.9666666666666666\n",
      "4 0.9666666666666666\n",
      "5 0.9666666666666668\n",
      "6 0.9666666666666668\n",
      "7 0.9666666666666668\n",
      "8 0.9666666666666668\n",
      "9 0.9733333333333334\n",
      "10 0.9666666666666668\n",
      "11 0.9666666666666668\n",
      "12 0.9733333333333334\n",
      "13 0.9800000000000001\n",
      "14 0.9733333333333334\n",
      "15 0.9733333333333334\n",
      "16 0.9733333333333334\n",
      "17 0.9733333333333334\n",
      "18 0.9800000000000001\n",
      "19 0.9733333333333334\n",
      "20 0.9800000000000001\n",
      "21 0.9666666666666666\n",
      "22 0.9666666666666666\n",
      "23 0.9733333333333334\n",
      "24 0.96\n",
      "25 0.9666666666666666\n",
      "26 0.96\n",
      "27 0.9666666666666666\n",
      "28 0.9533333333333334\n",
      "29 0.9533333333333334\n"
     ]
    }
   ],
   "source": [
    "for i in range(1,30):\n",
    "    knn  = KNeighborsClassifier(n_neighbors= i)\n",
    "    scores = cross_val_score (knn, x,y,\n",
    "                          cv= 10, # no of folds (whole data in 10 parts and train each part on the knn model and check accuracy)\n",
    "                          scoring= 'accuracy')\n",
    "    print(i, scores.mean())"
   ]
  },
  {
   "cell_type": "markdown",
   "metadata": {},
   "source": [
    "> Hence `n_neighbors`=13,18,20 gives high CV value"
   ]
  }
 ],
 "metadata": {
  "kernelspec": {
   "display_name": "Python 3",
   "language": "python",
   "name": "python3"
  },
  "language_info": {
   "codemirror_mode": {
    "name": "ipython",
    "version": 3
   },
   "file_extension": ".py",
   "mimetype": "text/x-python",
   "name": "python",
   "nbconvert_exporter": "python",
   "pygments_lexer": "ipython3",
   "version": "3.11.9"
  }
 },
 "nbformat": 4,
 "nbformat_minor": 2
}
